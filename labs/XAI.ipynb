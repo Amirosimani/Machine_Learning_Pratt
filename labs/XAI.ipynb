{
 "cells": [
  {
   "cell_type": "code",
   "execution_count": null,
   "id": "a4821574-f6ab-42e3-bc89-e54205b2647e",
   "metadata": {},
   "outputs": [],
   "source": [
    "# # Explainability\n",
    "\n",
    "# #!pip install --user shap\n",
    "# # !pip install --user numba\n",
    "\n",
    "# new_lr.coef_\n",
    "\n",
    "# import pandas as pd\n",
    "\n",
    "# plt.figure(figsize=(10, 4))\n",
    "# df = pd.DataFrame(new_lr.coef_)\n",
    "# ax = plt.gca()\n",
    "# df.plot.bar(ax=ax, width=.9)\n",
    "# ax.set_ylim(-1.5, 1.5)\n",
    "# ax.set_xlim(-.5, len(df) - .5)\n",
    "# ax.set_xlabel(\"feature index\")\n",
    "# ax.set_ylabel(\"importance value\")\n",
    "# plt.vlines(np.arange(.5, len(df) -1), -1.5, 1.5, linewidth=.5)\n",
    "\n",
    "# import shap\n",
    "\n",
    "# explainer = shap.LinearExplainer(new_lr, X_train, feature_dependence=\"independent\")\n",
    "# shap_values = explainer.shap_values(X_test)\n",
    "\n",
    "\n",
    "# ## Summarize the effect of all the features\n",
    "\n",
    "\n",
    "# Shapley values calculate the importance of a feature by comparing what a model predicts with and without the feature. However, since the order in which a model sees features can affect its predictions, this is done in every possible order, so that the features are fairly compared.\n",
    "\n",
    "# * The y-axis indicates the variable name, in order of importance from top to bottom. The value next to them is the mean SHAP value.\n",
    "# * On the x-axis is the SHAP value. Indicates how much is the change in log-odds. From this number we can extract the probability of success.\n",
    "# * Gradient color indicates the original value for that variable. In booleans, it will take two colors, but in number it can contain the whole spectrum.\n",
    "# * Each point represents a row from the original dataset.\n",
    "\n",
    "# shap.summary_plot(shap_values, X_test)\n",
    "\n",
    "# # try this with randomforests"
   ]
  }
 ],
 "metadata": {
  "kernelspec": {
   "display_name": "Python 3 (ipykernel)",
   "language": "python",
   "name": "python3"
  },
  "language_info": {
   "codemirror_mode": {
    "name": "ipython",
    "version": 3
   },
   "file_extension": ".py",
   "mimetype": "text/x-python",
   "name": "python",
   "nbconvert_exporter": "python",
   "pygments_lexer": "ipython3",
   "version": "3.8.11"
  }
 },
 "nbformat": 4,
 "nbformat_minor": 5
}
