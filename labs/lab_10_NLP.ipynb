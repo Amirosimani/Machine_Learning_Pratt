{
 "cells": [
  {
   "cell_type": "markdown",
   "id": "0bfbe7d8",
   "metadata": {},
   "source": [
    "# Natural Language Processing (NLP)"
   ]
  },
  {
   "cell_type": "markdown",
   "id": "0068bfb1",
   "metadata": {},
   "source": [
    "Natural language processing (NLP) is the ability of a computer program to understand human language as it is spoken and written.\n",
    "\n",
    "Language is considered **unstructured** data. Unstructured data is information that is not arranged according to a preset data model or schema, and therefore cannot be stored in a traditional relational database (think excel files).\n",
    "Almost most of the data generated and collected is unstructured.\n",
    "\n",
    "<img src=\"./img/lab_10_nlp_history.png\">\n",
    "\n",
    "\n",
    "A main challenge in NLP is how to represent text as data that is consumable by the computer understands.\n",
    "\n",
    "-----\n",
    "\n",
    "\n",
    "There are two main phases to natural language processing: **data representation** and **algorithm development**.\n",
    "\n",
    "## Data representation\n",
    "In order to perform machine learning on text documents, we first need to turn the text content into numerical feature vectors. There are mulitple approaches this can be done, including:\n",
    "\n",
    "* **Tokenization**: This is when text is broken down into smaller units to work with.\n",
    "\n",
    "<img src=\"./img/lab_10_tokenization.png\">\n",
    "\n",
    "After you decided on your tokenization strategy, you have to preprocess the tokens. Here are a few common preprocessing approaches.\n",
    "\n",
    "* **Lowercasing**: lowercase all the text data\n",
    "* **Stop Word Removal**:This is when common words are removed from text so unique words that offer the most information about the text remain.\n",
    "* **Lemmatization & Stemming**: This is when words are reduced to their root forms to process.\n",
    "* **Part-of-Speech (POS) Tagging**: This is when words are marked based on the part-of speech they are -- such as nouns, verbs and adjectives.\n",
    "\n",
    "\n",
    "### Still, how can we turn these tokens to numbers that retain their meaning?\n",
    "\n",
    "#### **one-hot encoding**:\n",
    " on-hot encode each word in the sentence. The steps are as follow:\n",
    "    * First, create a list with the size of our vocabulary.\n",
    "    * Assign 1 one for words that exists in the sentence.\n",
    "\n",
    "|        | chase | dog | person | word | ... |\n",
    "|--------|-------|-----|--------|------|-----|\n",
    "| dog    | 0     | 1   | 0      | 0    | 0   |\n",
    "| chase  | 1     | 0   | 0      | 0    | 0   |\n",
    "| person | 0     | 0   | 1      | 0    | 0   |\n",
    "\n",
    "We converted \"Dog chase person\" to a matrix!\n",
    "\n",
    "What are the issues with this approach?\n",
    "- This representation does not convey any relationships between words\n",
    "- The generated matrix is high-dimensional and sparse\n",
    "\n",
    "\n",
    "#### **Bag-of-Words**:\n",
    "BoW is a simple document embedding technique based on word frequency.\n",
    "* Create a vector whose length is equal to the size of the vocabulary\n",
    "* Place a value to represent the frequency in which the word appears in the given document\n",
    "\n",
    "Let's look at a new example `My dog is chasing his dog`. You can create a BoW representation like this:\n",
    "\n",
    "| chase | cat | dog | his | person | my | word | ... |\n",
    "|-------|-----|-----|-----|--------|----|------|-----|\n",
    "| 1     | 0   | 2   | 1   | 0      | 1  | 0    | 0   |\n",
    "\n",
    "The output vector is `[1, 0, 2, 1, 0, 1, 0, 0, ...]`\n",
    "\n",
    "* This approach captures `shallow` semantics i.e. If two sentences have similar vocabulary, the two vectors that represent them are close in the vector space and they might have similar meanings.\n",
    "* The generated matrix is less sparse compared to one-hot encoding.\n",
    "\n",
    "Still it is sparse, doesn't fully capture the semantics (`My dog is chasing his dog` vs `His dog is chasing my dog`)\n",
    "\n",
    "#### **Word Embeddings**: \n",
    "\n",
    "A technique to represent words in low-dimensional dense vectors while capturing the relationship between the words in the vector space.\n",
    "\n",
    "There are many approaches to generate word embeddings like `word2vec`, `GloVe`, etc.\n",
    "\n"
   ]
  },
  {
   "cell_type": "markdown",
   "id": "0ae75772",
   "metadata": {},
   "source": [
    "\n",
    "## Algorithms\n",
    "Natural language processing applies algorithms to understand the meaning and structure of sentences. These algorithms include:\n",
    "\n",
    "* **Word sense disambiguation**. This derives the meaning of a word based on context.\n",
    "* **Named entity recognition**. This determines words that can be categorized into groups.\n",
    "* **Natural language generation**. This is used to determine semantics behind words and generate new text.\n",
    "* **Text classification**. This involves assigning tags to texts to put them in categories. This can be useful for sentiment analysis, which helps the natural language processing algorithm determine the sentiment, or emotion behind a text. \n",
    "* **Text extraction**. This involves automatically summarizing text and finding important pieces of data.\n",
    "* **Machine translation**. This is the process by which a computer translates text from one language, such as English, to another language, such as French, without human intervention.\n",
    "-----"
   ]
  },
  {
   "cell_type": "markdown",
   "id": "609926be-e827-40e1-9241-2aac57472f89",
   "metadata": {},
   "source": [
    "## What is Sentiment Analysis"
   ]
  },
  {
   "cell_type": "markdown",
   "id": "259a701b-6622-4b68-822b-7f2c42f43d68",
   "metadata": {},
   "source": [
    "# What is BERT?\n",
    "\n",
    "<img src=\"./img/lab_12_bert.jpg\">\n",
    "\n",
    "**BERT** stands for Bidirectional Encoder Representations from Transformers. Jacob Devlin and his colleagues developed BERT at Google in 2018. Devlin and his colleagues trained the BERT on English Wikipedia (2,500M words) and BooksCorpus (800M words) and achieved the best accuracies for some of the NLP tasks in 2018. \n",
    "\n",
    "\n",
    "There are two pre-trained general BERT variations: The base model is a 12-layer, 768-hidden, 12-heads, 110M parameter neural network architecture, whereas the large model is a 24-layer, 1024-hidden, 16-heads, 340M parameter neural network architecture."
   ]
  },
  {
   "cell_type": "markdown",
   "id": "a1ac28b4-46e7-4607-84b6-957730cceb13",
   "metadata": {},
   "source": [
    "# What is Hugging Face 🤗\n",
    "\n",
    "Hugging Face is an open-source provider of natural language processing (NLP) technologies. It has a large open-source community, in particular around the Transformers library.\n",
    "\n",
    "🤗/Transformers is a python-based library that exposes an API to use many well-known transformer architectures, such as BERT, RoBERTa, GPT-2 or DistilBERT, that obtain state-of-the-art results on a variety of NLP tasks like text classification, information extraction, question answering, and text generation. Those architectures come pre-trained with several sets of weights. Getting started with Transformers only requires to install the pip package:\n",
    "\n",
    "`pip install transformers`\n",
    "\n",
    "\n",
    "more here: https://blog.tensorflow.org/2019/11/hugging-face-state-of-art-natural.html\n"
   ]
  },
  {
   "cell_type": "markdown",
   "id": "f607a7f2-c212-4373-afe2-40ee3d297c80",
   "metadata": {},
   "source": [
    "The advantage of using `Transformers` lies in the straight-forward model-agnostic API. Loading a pre-trained model, along with its tokenizer can be done in a few lines of code. Here is an example of loading the BERT TensorFlow models as well as their tokenizers."
   ]
  },
  {
   "cell_type": "markdown",
   "id": "02920a72-2843-4270-ada2-8c744dc6c892",
   "metadata": {},
   "source": [
    "# Fine-tuning a pretrained model"
   ]
  },
  {
   "cell_type": "markdown",
   "id": "031533b3-afce-4f95-a878-1e73ff845701",
   "metadata": {},
   "source": [
    "We are gping to use the IMDB dataset: the task is to classify whether movie reviews are positive or negative. For more infromation you can check Datasets [documentation](https://huggingface.co/docs/datasets/)."
   ]
  },
  {
   "cell_type": "code",
   "execution_count": null,
   "id": "a7330005",
   "metadata": {},
   "outputs": [],
   "source": [
    "!pip install datasets transformers tensorflow -q"
   ]
  },
  {
   "cell_type": "code",
   "execution_count": null,
   "id": "49067b9a-1870-4f4a-a92e-fc03957e6982",
   "metadata": {},
   "outputs": [],
   "source": [
    "from datasets import load_dataset\n",
    "\n",
    "# download and cache the dataset:\n",
    "raw_datasets = load_dataset(\"imdb\")\n",
    "\n",
    "raw_datasets"
   ]
  },
  {
   "cell_type": "code",
   "execution_count": null,
   "id": "fbbaa194",
   "metadata": {},
   "outputs": [],
   "source": [
    "from pprint import pprint"
   ]
  },
  {
   "cell_type": "markdown",
   "id": "f013160b-3d75-46e7-b448-efd55cfb866a",
   "metadata": {},
   "source": [
    "To preprocess our data, we will need a tokenizer. If you plan on using a pretrained model, it’s important to use the associated pretrained tokenizer: it will split the text you give it in tokens the same way for the pretraining corpus, and it will use the same correspondence token to index (that we usually call a vocab) as during pretraining."
   ]
  },
  {
   "cell_type": "code",
   "execution_count": null,
   "id": "131ef06c-c91b-43fe-8701-a592c7e874e5",
   "metadata": {},
   "outputs": [],
   "source": [
    "from transformers import AutoTokenizer\n",
    "\n",
    "#  automatically download the vocab used during pretraining or fine-tuning a given model\n",
    "tokenizer = AutoTokenizer.from_pretrained(\"bert-base-cased\")"
   ]
  },
  {
   "cell_type": "code",
   "execution_count": null,
   "id": "abfe5951-4123-4988-9aa5-8879e2dba8d0",
   "metadata": {},
   "outputs": [],
   "source": [
    "# example\n",
    "encoded_input = tokenizer(\"I love machine learning!\")\n",
    "print(encoded_input)"
   ]
  },
  {
   "cell_type": "markdown",
   "id": "92e62512-673a-4297-a9ab-50333fbffe00",
   "metadata": {},
   "source": [
    "This returns a dictionary string to list of ints. The input_ids are the indices corresponding to each token in our sentence. We will see below what the attention_mask is used for and in the next section the goal of token_type_ids."
   ]
  },
  {
   "cell_type": "code",
   "execution_count": null,
   "id": "2bfe6509-0f6f-4480-bc42-5a56aaeed1df",
   "metadata": {},
   "outputs": [],
   "source": [
    "tokenizer.decode(encoded_input[\"input_ids\"])"
   ]
  },
  {
   "cell_type": "markdown",
   "id": "f9b86004-9955-4bc3-a48f-ca50c4bb8bc5",
   "metadata": {},
   "source": [
    "As you can see, the tokenizer automatically added some special tokens that the model expects. Now let's tokenize our data:"
   ]
  },
  {
   "cell_type": "code",
   "execution_count": null,
   "id": "0157ba95-cc61-4141-8c76-1f8c82c8ad29",
   "metadata": {},
   "outputs": [],
   "source": [
    "def tokenize_function(examples):\n",
    "    return tokenizer(examples[\"text\"], padding=\"max_length\", truncation=True)\n",
    "\n",
    "# This will make all the samples have the maximum length the model can accept (here 512),\n",
    "# either by padding or truncating them. Note that we are applying the preprocessing step to\n",
    "# all splots of the raw dataset\n",
    "tokenized_datasets = raw_datasets.map(tokenize_function, batched=True)"
   ]
  },
  {
   "cell_type": "code",
   "execution_count": null,
   "id": "ccf61eb8-4759-467e-a2d2-61c74a5e6c5c",
   "metadata": {},
   "outputs": [],
   "source": [
    "small_train_dataset = tokenized_datasets[\"train\"].shuffle(seed=42).select(range(1000))\n",
    "small_eval_dataset = tokenized_datasets[\"test\"].shuffle(seed=42).select(range(1000))\n",
    "# full_train_dataset = tokenized_datasets[\"train\"]\n",
    "# full_eval_dataset = tokenized_datasets[\"test\"]"
   ]
  },
  {
   "cell_type": "code",
   "execution_count": null,
   "id": "0c3991a5-c4bb-49b8-9d79-a1f12cf4ded5",
   "metadata": {},
   "outputs": [],
   "source": [
    "import tensorflow as tf\n",
    "from transformers import TFAutoModelForSequenceClassification\n",
    "\n",
    "model = TFAutoModelForSequenceClassification.from_pretrained(\"bert-base-cased\", num_labels=2)"
   ]
  },
  {
   "cell_type": "code",
   "execution_count": null,
   "id": "d33dc069",
   "metadata": {},
   "outputs": [],
   "source": [
    "model.summary()"
   ]
  },
  {
   "cell_type": "markdown",
   "id": "3e5de5f2-ac87-4751-9c15-fb59e203c49c",
   "metadata": {},
   "source": [
    "Since we are going to train our model natively in TensorFlow, we need to convert our datasets to standard `td.data.Dataset`."
   ]
  },
  {
   "cell_type": "code",
   "execution_count": null,
   "id": "4464ce22-f03a-432d-9a2e-4d490a795bf5",
   "metadata": {},
   "outputs": [],
   "source": [
    "tf_train_dataset = small_train_dataset.remove_columns([\"text\"]).with_format(\"tensorflow\")\n",
    "tf_eval_dataset = small_eval_dataset.remove_columns([\"text\"]).with_format(\"tensorflow\")"
   ]
  },
  {
   "cell_type": "code",
   "execution_count": null,
   "id": "61b507f1-2338-4a6d-b055-1f1fd14df8a4",
   "metadata": {},
   "outputs": [],
   "source": [
    "train_features = {x: tf_train_dataset[x] for x in tokenizer.model_input_names}\n",
    "train_tf_dataset = tf.data.Dataset.from_tensor_slices((train_features, tf_train_dataset[\"label\"]))\n",
    "train_tf_dataset = train_tf_dataset.shuffle(len(tf_train_dataset)).batch(8)\n",
    "\n",
    "eval_features = {x: tf_eval_dataset[x] for x in tokenizer.model_input_names}\n",
    "eval_tf_dataset = tf.data.Dataset.from_tensor_slices((eval_features, tf_eval_dataset[\"label\"]))\n",
    "eval_tf_dataset = eval_tf_dataset.batch(8)"
   ]
  },
  {
   "cell_type": "code",
   "execution_count": null,
   "id": "5bb26e70",
   "metadata": {},
   "outputs": [],
   "source": [
    "train_features"
   ]
  },
  {
   "cell_type": "code",
   "execution_count": null,
   "id": "bcbd4955-8ca3-4718-81dc-7803ce14c177",
   "metadata": {},
   "outputs": [],
   "source": [
    "model.compile(\n",
    "    optimizer=tf.keras.optimizers.Adam(learning_rate=5e-5),\n",
    "    loss=tf.keras.losses.SparseCategoricalCrossentropy(from_logits=True),\n",
    "    metrics=tf.metrics.SparseCategoricalAccuracy(),\n",
    ")\n",
    "\n",
    "model.fit(train_tf_dataset, validation_data=eval_tf_dataset, epochs=3)"
   ]
  },
  {
   "cell_type": "markdown",
   "id": "feba0e18-4618-4315-962a-45909efed3a0",
   "metadata": {},
   "source": []
  },
  {
   "cell_type": "code",
   "execution_count": null,
   "id": "5f8f64b7-d002-4d28-bdee-cea2b4786427",
   "metadata": {},
   "outputs": [],
   "source": [
    "# save the fine-tuned model for future use\n",
    "model.save_pretrained(\"./my_imdb_model\")"
   ]
  },
  {
   "cell_type": "markdown",
   "id": "571764a6-e4b6-40af-9baf-2c5f153a690c",
   "metadata": {},
   "source": [
    "There are many more examples for different tasks such as text classification, question answering, etc [here](https://github.com/huggingface/transformers/tree/master/examples/tensorflow)"
   ]
  },
  {
   "cell_type": "markdown",
   "id": "2454f68e-93f3-4398-b99b-de265fdeec7d",
   "metadata": {},
   "source": [
    "## optional - HugginFace approach"
   ]
  },
  {
   "cell_type": "markdown",
   "id": "62aa843e-da8c-4fee-93b5-3398fc340b0c",
   "metadata": {},
   "source": [
    "compute_metrics function takes predictions and labels and computes and returns a dictionary with string items (the metric names) and float values (the metric values).\n",
    "\n",
    "The 🤗 Datasets library provides an easy way to get the common metrics used in NLP with the load_metric function. here we simply use accuracy. Then we define the compute_metrics function that just convert logits to predictions (remember that all 🤗 Transformers models return the logits) and feed them to compute method of this metric."
   ]
  },
  {
   "cell_type": "code",
   "execution_count": null,
   "id": "cb87e8b2-0456-46d3-8624-5479010a61d3",
   "metadata": {},
   "outputs": [],
   "source": [
    "import numpy as np\n",
    "from datasets import load_metric\n",
    "\n",
    "metric = load_metric(\"accuracy\")\n",
    "\n",
    "def compute_metrics(eval_pred):\n",
    "    logits, labels = eval_pred\n",
    "    predictions = np.argmax(logits, axis=-1)\n",
    "    return metric.compute(predictions=predictions, references=labels)"
   ]
  },
  {
   "cell_type": "markdown",
   "id": "a16f9eb1-7574-46ad-82f1-34262b74d9b2",
   "metadata": {},
   "source": [
    "To define our Trainer, we will need to instantiate a TrainingArguments. This class contains all the hyperparameters we can tune for the Trainer or the flags to activate the different training options it supports. Let’s begin by using all the default arguments"
   ]
  },
  {
   "cell_type": "code",
   "execution_count": null,
   "id": "42857f68",
   "metadata": {},
   "outputs": [],
   "source": [
    "!pip install pip install transformers[torch]"
   ]
  },
  {
   "cell_type": "code",
   "execution_count": null,
   "id": "89c92732-905e-41e4-85f0-bb6c04f48cfb",
   "metadata": {},
   "outputs": [],
   "source": [
    "from transformers import TrainingArguments\n",
    "\n",
    "training_args = TrainingArguments(\"test_trainer\", evaluation_strategy=\"epoch\")"
   ]
  },
  {
   "cell_type": "code",
   "execution_count": null,
   "id": "6b32f2fc-1ba6-403c-bb00-d57bc8c426e8",
   "metadata": {},
   "outputs": [],
   "source": [
    "from transformers import Trainer\n",
    "\n",
    "# instantiate a Trainer\n",
    "trainer = Trainer(\n",
    "    model=model,\n",
    "    args=training_args, \n",
    "    train_dataset=small_train_dataset,\n",
    "    eval_dataset=small_eval_dataset,\n",
    "    compute_metrics=compute_metrics\n",
    "\n",
    ")"
   ]
  },
  {
   "cell_type": "markdown",
   "id": "166109a1-9900-4076-a189-a5fa9d066592",
   "metadata": {},
   "source": [
    "To fine-tune our model, we just need to call\n",
    "\n"
   ]
  },
  {
   "cell_type": "code",
   "execution_count": null,
   "id": "2c9cf52c-4563-43e4-bd2c-b563804992fd",
   "metadata": {},
   "outputs": [],
   "source": [
    "trainer.train()"
   ]
  }
 ],
 "metadata": {
  "kernelspec": {
   "display_name": "Python 3 (ipykernel)",
   "language": "python",
   "name": "python3"
  },
  "language_info": {
   "codemirror_mode": {
    "name": "ipython",
    "version": 3
   },
   "file_extension": ".py",
   "mimetype": "text/x-python",
   "name": "python",
   "nbconvert_exporter": "python",
   "pygments_lexer": "ipython3",
   "version": "3.9.16"
  },
  "vscode": {
   "interpreter": {
    "hash": "31f2aee4e71d21fbe5cf8b01ff0e069b9275f58929596ceb00d14d90e3e16cd6"
   }
  }
 },
 "nbformat": 4,
 "nbformat_minor": 5
}
