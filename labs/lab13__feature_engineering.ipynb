{
 "cells": [
  {
   "cell_type": "markdown",
   "metadata": {},
   "source": [
    "# Preprocessing Data/Feature Engineering\n",
    "\n",
    "> **The features you use influence more than everything else the result. No algorithm alone, can supplement the information gain given by correct feature engineering.**\n",
    "\n",
    "\n",
    "All machine learning algorithms use some input data to create outputs. This input data comprise features, which are usually in the form of structured columns. Algorithms require features with some specific characteristic to work properly.\n",
    "\n",
    "Feature engineering efforts mainly have two goals:\n",
    "\n",
    "* Preparing the proper input dataset, compatible with the machine learning algorithm requirements.\n",
    "* Improving the performance of machine learning models.\n",
    "\n"
   ]
  },
  {
   "cell_type": "code",
   "execution_count": null,
   "metadata": {},
   "outputs": [],
   "source": []
  }
 ],
 "metadata": {
  "kernelspec": {
   "display_name": "Python 3",
   "language": "python",
   "name": "python3"
  },
  "language_info": {
   "codemirror_mode": {
    "name": "ipython",
    "version": 3
   },
   "file_extension": ".py",
   "mimetype": "text/x-python",
   "name": "python",
   "nbconvert_exporter": "python",
   "pygments_lexer": "ipython3",
   "version": "3.7.7"
  }
 },
 "nbformat": 4,
 "nbformat_minor": 4
}
