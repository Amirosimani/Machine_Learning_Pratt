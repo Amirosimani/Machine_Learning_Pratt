{
 "cells": [
  {
   "cell_type": "markdown",
   "id": "b7a78c38-95ed-41ad-8ce9-d0777f418f4b",
   "metadata": {},
   "source": [
    "## What is API?\n",
    "\n",
    "<img src=\"./img/lab_12_api-explained.png\">\n",
    "source: https://www.humcommerce.com\n",
    "\n",
    "---\n",
    "Application Program Interfaces, or APIs, are commonly used to retrieve data from remote websites. Sites like Twitter, and Facebook  offer certain data through their APIs. To use an API, you make a request to a remote web server, and retrieve the data you need.\n",
    "\n",
    "---\n",
    "An API makes it easy for developers to integrate one app with another.  They expose some of a program's inner workings in a limited way.\n",
    "\n",
    "You can use APIs to get information from other programs or to automate things you normally do in your web browser. Sometimes you can use APIs to do things you just can't do any other way.\n",
    "\n",
    "## Why I should use APIs?\n",
    "\n",
    "- The data is changing quickly.\n",
    "\n",
    "- You want a small piece of a much larger set of data.\n",
    "\n",
    "- There is repeated computation involved. \n",
    "\n",
    "- An example of this is stock price data. It doesn't really make sense to regenerate a dataset and download it every minute -- this will take a lot of bandwidth, and be pretty slow.\n",
    "\n",
    "- Reddit comments are one example. What if you want to just pull your own comments on Reddit? It doesn't make much sense to download the entire Reddit database, then filter just your own comments.\n",
    "\n",
    "- Spotify has an API that can tell you the genre of a piece of music. You could theoretically create your own classifier, and use it to categorize music, but you'll never have as much data as Spotify does."
   ]
  },
  {
   "cell_type": "markdown",
   "id": "a8c1bfbd-9c3c-44f7-8a33-b72d08a0a0fa",
   "metadata": {},
   "source": [
    "# Working with APIs"
   ]
  },
  {
   "cell_type": "markdown",
   "id": "78919eff-fe42-4387-a875-6b3fe77c7413",
   "metadata": {},
   "source": [
    "APIs are hosted on web servers. When you type www.google.com in your browser's address bar, your computer is actually asking the www.google.com server for a webpage, which it then returns to your browser.\n",
    "\n",
    "APIs work much the same way, except instead of your web browser asking for a webpage, your program asks for data. This data is usually returned in JSON format.\n",
    "\n",
    "In order to get the data, we make a request to a webserver. The server then replies with our data. In Python, we'll use the requests library to do this.\n",
    "\n",
    "There are many different types of requests. The most commonly used one, a GET request, is used to retrieve data.\n",
    "\n",
    "We can use a simple **GET** request to retrieve information fomr API.\n",
    "\n",
    "\n",
    "## API Key\n",
    "<img src=\"./img/lab_12_nyt.png\">\n",
    "\n",
    "<br/>\n",
    "\n",
    "\n",
    "Request a key from https://developer.nytimes.com"
   ]
  },
  {
   "cell_type": "code",
   "execution_count": null,
   "id": "6c218844-714f-4fab-8459-21657ddd9573",
   "metadata": {},
   "outputs": [],
   "source": [
    "# !pip install requests\n",
    "import requests\n",
    "import pandas as pd"
   ]
  },
  {
   "cell_type": "code",
   "execution_count": null,
   "id": "22793104-8d13-4038-85c1-2c866d7ed93b",
   "metadata": {},
   "outputs": [],
   "source": [
    "KEY = 'YOUR KEY HERE' \n",
    "\n",
    "# Set base url path\n",
    "base_url = 'http://api.nytimes.com/svc/search/v2/articlesearch.json?api-key={}'.format(KEY)\n",
    "base_url"
   ]
  },
  {
   "cell_type": "markdown",
   "id": "6c31ddc0-e8c1-4422-a474-38a24ff5ff0c",
   "metadata": {},
   "source": [
    "# HTTP Status Codes"
   ]
  },
  {
   "cell_type": "code",
   "execution_count": null,
   "id": "8031d98f-b69c-401e-bfc3-c1a76fc3ea14",
   "metadata": {},
   "outputs": [],
   "source": [
    "# Send a request\n",
    "response = requests.get(base_url)\n",
    "\n",
    "# Print the status code of the response.\n",
    "print(response.status_code)"
   ]
  },
  {
   "cell_type": "code",
   "execution_count": null,
   "id": "904df050-f503-430a-add1-c802759ff89b",
   "metadata": {},
   "outputs": [],
   "source": [
    "# # Trying a wrong URL\n",
    "# new_url = base_url + '?abc'\n",
    "# new_response = requests.get(new_url)\n",
    "\n",
    "# print(new_response.status_code)"
   ]
  },
  {
   "cell_type": "markdown",
   "id": "1c951dfe-2b42-44c3-8f32-6c741803f01a",
   "metadata": {},
   "source": [
    "<img src=\"./img/lab_12_status_codes.jpg\" style=\"width: 200px;\">\n",
    "\n",
    "The 200 series means \"success\" — your request was valid, and the response is what logically follows from it.\n",
    "The 400 series means \"bad request — something was wrong with the request, so the server did not process it as you wanted it to. Common causes for HTTP 400-level errors are badly-formatted requests and authentication problems.\n",
    "The 500 series means \"server error\" — your request may have been OK, but the server couldn't give you a good response right now for reasons out of your control. These should be rare, but you need to be aware of the possibility so you can handle them in your code.\n",
    "\n",
    "\n",
    "200 -- everything went okay, and the result has been returned (if any)\n",
    "\n",
    "301 -- the server is redirecting you to a different endpoint. This can happen when a company switches domain names, or an endpoint name is changed.\n",
    "\n",
    "401 -- the server thinks you're not authenticated. This happens when you don't send the right credentials to access an API (we'll talk about authentication in a later post).\n",
    "\n",
    "400 -- the server thinks you made a bad request. This can happen when you don't send along the right data, among other things.\n",
    "\n",
    "403 -- the resource you're trying to access is forbidden -- you don't have the right permissions to see it.\n",
    "\n",
    "404 -- the resource you tried to access wasn't found on the server.§"
   ]
  },
  {
   "cell_type": "markdown",
   "id": "069c4489-4e8c-4951-a6ce-0543f0b5ba59",
   "metadata": {},
   "source": [
    "# Query Parameters"
   ]
  },
  {
   "cell_type": "markdown",
   "id": "385b8dca-df98-4b79-ab28-e8cd9f947902",
   "metadata": {},
   "source": [
    "###  Main Questions to Ask\n",
    "\n",
    "- What does a request look like? \n",
    "- What does a response look like? \n",
    "- What goes into the request or response headers? *"
   ]
  },
  {
   "cell_type": "code",
   "execution_count": null,
   "id": "4810e426-3289-492f-b62b-3547431d35f0",
   "metadata": {},
   "outputs": [],
   "source": [
    "# Set up the parameters we want to pass to the API.\n",
    "user_input = {\"q\": ['trump'], \n",
    "              'fl': ['byline', 'pub_date', 'headline'],\n",
    "              'sort': 'newest',\n",
    "              'begin_date': '20200101', 'end_date': '20200201',\n",
    "             }\n",
    "\n",
    "\n",
    "# Make a get request with the parameters.\n",
    "response = requests.get(base_url, params=user_input)\n",
    "\n",
    "# Print the content of the response (the data the server returned)\n",
    "print(response.status_code)\n"
   ]
  },
  {
   "cell_type": "code",
   "execution_count": null,
   "id": "2e821631-33b1-4bc1-bf81-2cfd83af9d84",
   "metadata": {},
   "outputs": [],
   "source": [
    "# Check the retrieved information\n",
    "print(response.headers)\n",
    "# print(response.content)"
   ]
  },
  {
   "cell_type": "code",
   "execution_count": null,
   "id": "1645d535-e35d-4775-b28d-425c52eb7b27",
   "metadata": {},
   "outputs": [],
   "source": [
    "response.json()['response']['docs']"
   ]
  },
  {
   "cell_type": "markdown",
   "id": "a1ea645c-0e0f-4baa-94ee-cafab9296537",
   "metadata": {},
   "source": [
    "# More Advanced Queries"
   ]
  },
  {
   "cell_type": "code",
   "execution_count": null,
   "id": "34106e12-e0a9-40da-b313-94a28f705a6d",
   "metadata": {},
   "outputs": [],
   "source": [
    "# set variables\n",
    "KEY = 'YOUR KEY HERE' \n",
    "\n",
    "base_url = 'http://api.nytimes.com/svc/search/v2/articlesearch.json'\n",
    "query = \"crispr+china\"\n",
    "begin_date = '20190101'\n",
    "\n",
    "# initialize an empty dataframe\n",
    "df_all = pd.DataFrame()\n",
    "\n",
    "# iterate through 5 pages\n",
    "for i in range(5):\n",
    "    # paremeters to look for in NYT\n",
    "    parameters = {\"api-key\": KEY,\n",
    "                  \"q\": query,\n",
    "                  \"api-key\": KEY,\n",
    "                  \"begin_date\": begin_date,\n",
    "                  \"page\": i}   # here is where page number goes\n",
    "\n",
    "    # send a Call and get the response in json format\n",
    "    response = requests.get(base_url, params=parameters)\n",
    "    data = response.json()\n",
    "\n",
    "    # get all articles - remove header data\n",
    "    articles = data['response']['docs']\n",
    "    # convert json to dataframe\n",
    "    df = pd.DataFrame.from_dict(articles)\n",
    "    # concatenating all pages to a final dataframe\n",
    "    df_all = pd.concat([df_all, df])"
   ]
  },
  {
   "cell_type": "code",
   "execution_count": null,
   "id": "cb744ab1-8451-4b77-8e34-c4cf94e96257",
   "metadata": {},
   "outputs": [],
   "source": [
    "df_all.head()"
   ]
  }
 ],
 "metadata": {
  "kernelspec": {
   "display_name": "Python 3 (ipykernel)",
   "language": "python",
   "name": "python3"
  },
  "language_info": {
   "codemirror_mode": {
    "name": "ipython",
    "version": 3
   },
   "file_extension": ".py",
   "mimetype": "text/x-python",
   "name": "python",
   "nbconvert_exporter": "python",
   "pygments_lexer": "ipython3",
   "version": "3.7.11"
  }
 },
 "nbformat": 4,
 "nbformat_minor": 5
}
