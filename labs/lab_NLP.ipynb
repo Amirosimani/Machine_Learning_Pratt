{
 "cells": [
  {
   "cell_type": "markdown",
   "metadata": {},
   "source": [
    "# Natural Language Processing (NLP)"
   ]
  },
  {
   "cell_type": "markdown",
   "metadata": {},
   "source": [
    "Natural language processing (NLP) is the ability of a computer program to understand human language as it is spoken and written.\n",
    "\n",
    "Language is considered **unstructured** data. Unstructured data is information that is not arranged according to a preset data model or schema, and therefore cannot be stored in a traditional relational database (think excel files).\n",
    "Almost most of the data generated and collected is unstructured.\n",
    "\n",
    "-----\n",
    "\n",
    "\n",
    "There are two main phases to natural language processing: **data preprocessing** and **algorithm development**.\n",
    "\n",
    "## Data Preprocessing\n",
    "In order to perform machine learning on text documents, we first need to turn the text content into numerical feature vectors. There are mulitple approaches this can be done, including:\n",
    "\n",
    "* **Tokenization**: This is when text is broken down into smaller units to work with.\n",
    "* **Stop Word Removal**:This is when common words are removed from text so unique words that offer the most information about the text remain.\n",
    "* **Lemmatization & Stemming**: This is when words are reduced to their root forms to process.\n",
    "* **Part-of-Speech (POS) Tagging**: This is when words are marked based on the part-of speech they are -- such as nouns, verbs and adjectives.\n",
    "\n",
    "\n",
    "## Algorithms\n",
    "Natural language processing applies algorithms to understand the meaning and structure of sentences. These algorithms include:\n",
    "\n",
    "* **Word sense disambiguation**. This derives the meaning of a word based on context.\n",
    "* **Named entity recognition**. This determines words that can be categorized into groups.\n",
    "* **Natural language generation**. This is used to determine semantics behind words and generate new text.\n",
    "* **Text classification**. This involves assigning tags to texts to put them in categories. This can be useful for sentiment analysis, which helps the natural language processing algorithm determine the sentiment, or emotion behind a text. \n",
    "* **Text extraction**. This involves automatically summarizing text and finding important pieces of data.\n",
    "* **Machine translation**. This is the process by which a computer translates text from one language, such as English, to another language, such as French, without human intervention.\n",
    "-----"
   ]
  },
  {
   "cell_type": "markdown",
   "metadata": {},
   "source": []
  }
 ],
 "metadata": {
  "language_info": {
   "name": "python"
  },
  "orig_nbformat": 4
 },
 "nbformat": 4,
 "nbformat_minor": 2
}
